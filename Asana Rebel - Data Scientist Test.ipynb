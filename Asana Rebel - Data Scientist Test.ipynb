{
 "cells": [
  {
   "cell_type": "markdown",
   "metadata": {},
   "source": [
    "# Imports"
   ]
  },
  {
   "cell_type": "code",
   "execution_count": 1,
   "metadata": {
    "collapsed": false
   },
   "outputs": [
    {
     "name": "stderr",
     "output_type": "stream",
     "text": [
      "/usr/local/lib/python3.4/dist-packages/matplotlib/backends/backend_gtk3agg.py:18: UserWarning: The Gtk3Agg backend is known to not work on Python 3.x with pycairo. Try installing cairocffi.\n",
      "  \"The Gtk3Agg backend is known to not work on Python 3.x with pycairo. \"\n"
     ]
    }
   ],
   "source": [
    "import numpy as np\n",
    "import pandas as pd\n",
    "import matplotlib\n",
    "import matplotlib.pyplot as plt\n",
    "\n",
    "%matplotlib inline\n",
    "matplotlib.rcParams.update({'font.size': 14})\n",
    "\n",
    "import re\n",
    "\n",
    "from datetime import datetime"
   ]
  },
  {
   "cell_type": "markdown",
   "metadata": {},
   "source": [
    "# Analysis"
   ]
  },
  {
   "cell_type": "markdown",
   "metadata": {},
   "source": [
    "## Load data"
   ]
  },
  {
   "cell_type": "code",
   "execution_count": 2,
   "metadata": {
    "collapsed": false
   },
   "outputs": [],
   "source": [
    "movies = pd.read_csv('ml-100k/u.item', sep='|', encoding='iso-8859-1', header=None, names=['movie id', 'movie title', 'release date', 'video release date', 'IMDb URL', 'unknown', 'Action', 'Adventure', 'Animation',\n",
    "'Children\\'s', 'Comedy', 'Crime', 'Documentary', 'Drama', 'Fantasy', 'Film-Noir', 'Horror', 'Musical', 'Mystery', 'Romance', 'Sci-Fi',\n",
    "'Thriller', 'War', 'Western'])\n",
    "ratings = pd.read_csv('ml-100k/u.data', sep='\\t', header=None, names=['user id', 'movie id', 'rating', 'timestamp'])"
   ]
  },
  {
   "cell_type": "code",
   "execution_count": 3,
   "metadata": {
    "collapsed": false
   },
   "outputs": [
    {
     "data": {
      "text/html": [
       "<div>\n",
       "<style>\n",
       "    .dataframe thead tr:only-child th {\n",
       "        text-align: right;\n",
       "    }\n",
       "\n",
       "    .dataframe thead th {\n",
       "        text-align: left;\n",
       "    }\n",
       "\n",
       "    .dataframe tbody tr th {\n",
       "        vertical-align: top;\n",
       "    }\n",
       "</style>\n",
       "<table border=\"1\" class=\"dataframe\">\n",
       "  <thead>\n",
       "    <tr style=\"text-align: right;\">\n",
       "      <th></th>\n",
       "      <th>movie id</th>\n",
       "      <th>movie title</th>\n",
       "      <th>release date</th>\n",
       "      <th>video release date</th>\n",
       "      <th>IMDb URL</th>\n",
       "      <th>unknown</th>\n",
       "      <th>Action</th>\n",
       "      <th>Adventure</th>\n",
       "      <th>Animation</th>\n",
       "      <th>Children's</th>\n",
       "      <th>...</th>\n",
       "      <th>Fantasy</th>\n",
       "      <th>Film-Noir</th>\n",
       "      <th>Horror</th>\n",
       "      <th>Musical</th>\n",
       "      <th>Mystery</th>\n",
       "      <th>Romance</th>\n",
       "      <th>Sci-Fi</th>\n",
       "      <th>Thriller</th>\n",
       "      <th>War</th>\n",
       "      <th>Western</th>\n",
       "    </tr>\n",
       "  </thead>\n",
       "  <tbody>\n",
       "    <tr>\n",
       "      <th>0</th>\n",
       "      <td>1</td>\n",
       "      <td>Toy Story (1995)</td>\n",
       "      <td>01-Jan-1995</td>\n",
       "      <td>NaN</td>\n",
       "      <td>http://us.imdb.com/M/title-exact?Toy%20Story%2...</td>\n",
       "      <td>0</td>\n",
       "      <td>0</td>\n",
       "      <td>0</td>\n",
       "      <td>1</td>\n",
       "      <td>1</td>\n",
       "      <td>...</td>\n",
       "      <td>0</td>\n",
       "      <td>0</td>\n",
       "      <td>0</td>\n",
       "      <td>0</td>\n",
       "      <td>0</td>\n",
       "      <td>0</td>\n",
       "      <td>0</td>\n",
       "      <td>0</td>\n",
       "      <td>0</td>\n",
       "      <td>0</td>\n",
       "    </tr>\n",
       "    <tr>\n",
       "      <th>1</th>\n",
       "      <td>2</td>\n",
       "      <td>GoldenEye (1995)</td>\n",
       "      <td>01-Jan-1995</td>\n",
       "      <td>NaN</td>\n",
       "      <td>http://us.imdb.com/M/title-exact?GoldenEye%20(...</td>\n",
       "      <td>0</td>\n",
       "      <td>1</td>\n",
       "      <td>1</td>\n",
       "      <td>0</td>\n",
       "      <td>0</td>\n",
       "      <td>...</td>\n",
       "      <td>0</td>\n",
       "      <td>0</td>\n",
       "      <td>0</td>\n",
       "      <td>0</td>\n",
       "      <td>0</td>\n",
       "      <td>0</td>\n",
       "      <td>0</td>\n",
       "      <td>1</td>\n",
       "      <td>0</td>\n",
       "      <td>0</td>\n",
       "    </tr>\n",
       "    <tr>\n",
       "      <th>2</th>\n",
       "      <td>3</td>\n",
       "      <td>Four Rooms (1995)</td>\n",
       "      <td>01-Jan-1995</td>\n",
       "      <td>NaN</td>\n",
       "      <td>http://us.imdb.com/M/title-exact?Four%20Rooms%...</td>\n",
       "      <td>0</td>\n",
       "      <td>0</td>\n",
       "      <td>0</td>\n",
       "      <td>0</td>\n",
       "      <td>0</td>\n",
       "      <td>...</td>\n",
       "      <td>0</td>\n",
       "      <td>0</td>\n",
       "      <td>0</td>\n",
       "      <td>0</td>\n",
       "      <td>0</td>\n",
       "      <td>0</td>\n",
       "      <td>0</td>\n",
       "      <td>1</td>\n",
       "      <td>0</td>\n",
       "      <td>0</td>\n",
       "    </tr>\n",
       "  </tbody>\n",
       "</table>\n",
       "<p>3 rows × 24 columns</p>\n",
       "</div>"
      ],
      "text/plain": [
       "   movie id        movie title release date  video release date  \\\n",
       "0         1   Toy Story (1995)  01-Jan-1995                 NaN   \n",
       "1         2   GoldenEye (1995)  01-Jan-1995                 NaN   \n",
       "2         3  Four Rooms (1995)  01-Jan-1995                 NaN   \n",
       "\n",
       "                                            IMDb URL  unknown  Action  \\\n",
       "0  http://us.imdb.com/M/title-exact?Toy%20Story%2...        0       0   \n",
       "1  http://us.imdb.com/M/title-exact?GoldenEye%20(...        0       1   \n",
       "2  http://us.imdb.com/M/title-exact?Four%20Rooms%...        0       0   \n",
       "\n",
       "   Adventure  Animation  Children's   ...     Fantasy  Film-Noir  Horror  \\\n",
       "0          0          1           1   ...           0          0       0   \n",
       "1          1          0           0   ...           0          0       0   \n",
       "2          0          0           0   ...           0          0       0   \n",
       "\n",
       "   Musical  Mystery  Romance  Sci-Fi  Thriller  War  Western  \n",
       "0        0        0        0       0         0    0        0  \n",
       "1        0        0        0       0         1    0        0  \n",
       "2        0        0        0       0         1    0        0  \n",
       "\n",
       "[3 rows x 24 columns]"
      ]
     },
     "execution_count": 3,
     "metadata": {},
     "output_type": "execute_result"
    }
   ],
   "source": [
    "movies.head(3)"
   ]
  },
  {
   "cell_type": "code",
   "execution_count": 4,
   "metadata": {
    "collapsed": false
   },
   "outputs": [
    {
     "data": {
      "text/plain": [
       "movie id\n",
       "1    1995.0\n",
       "2    1995.0\n",
       "3    1995.0\n",
       "Name: year, dtype: float64"
      ]
     },
     "execution_count": 4,
     "metadata": {},
     "output_type": "execute_result"
    }
   ],
   "source": [
    "def extract_year(title):\n",
    "    year_search = re.search(r'\\((\\d{4})\\)', title)\n",
    "\n",
    "    if year_search:\n",
    "        year = int(year_search.group(1))\n",
    "    else:\n",
    "        year = np.nan\n",
    "        \n",
    "    return year\n",
    "\n",
    "movies['year'] = movies['movie title'].apply(extract_year)\n",
    "movies.index = movies['movie id']\n",
    "movies['year'].head(3)"
   ]
  },
  {
   "cell_type": "code",
   "execution_count": 5,
   "metadata": {
    "collapsed": false
   },
   "outputs": [
    {
     "data": {
      "text/html": [
       "<div>\n",
       "<style>\n",
       "    .dataframe thead tr:only-child th {\n",
       "        text-align: right;\n",
       "    }\n",
       "\n",
       "    .dataframe thead th {\n",
       "        text-align: left;\n",
       "    }\n",
       "\n",
       "    .dataframe tbody tr th {\n",
       "        vertical-align: top;\n",
       "    }\n",
       "</style>\n",
       "<table border=\"1\" class=\"dataframe\">\n",
       "  <thead>\n",
       "    <tr style=\"text-align: right;\">\n",
       "      <th></th>\n",
       "      <th>user id</th>\n",
       "      <th>movie id</th>\n",
       "      <th>rating</th>\n",
       "      <th>timestamp</th>\n",
       "    </tr>\n",
       "  </thead>\n",
       "  <tbody>\n",
       "    <tr>\n",
       "      <th>0</th>\n",
       "      <td>196</td>\n",
       "      <td>242</td>\n",
       "      <td>3</td>\n",
       "      <td>881250949</td>\n",
       "    </tr>\n",
       "    <tr>\n",
       "      <th>1</th>\n",
       "      <td>186</td>\n",
       "      <td>302</td>\n",
       "      <td>3</td>\n",
       "      <td>891717742</td>\n",
       "    </tr>\n",
       "    <tr>\n",
       "      <th>2</th>\n",
       "      <td>22</td>\n",
       "      <td>377</td>\n",
       "      <td>1</td>\n",
       "      <td>878887116</td>\n",
       "    </tr>\n",
       "  </tbody>\n",
       "</table>\n",
       "</div>"
      ],
      "text/plain": [
       "   user id  movie id  rating  timestamp\n",
       "0      196       242       3  881250949\n",
       "1      186       302       3  891717742\n",
       "2       22       377       1  878887116"
      ]
     },
     "execution_count": 5,
     "metadata": {},
     "output_type": "execute_result"
    }
   ],
   "source": [
    "ratings.head(3)"
   ]
  },
  {
   "cell_type": "code",
   "execution_count": 6,
   "metadata": {
    "collapsed": false
   },
   "outputs": [],
   "source": [
    "def extract_year_from_timestamp(timestamp):\n",
    "    return int(datetime.fromtimestamp(timestamp).strftime('%Y'))\n",
    "\n",
    "ratings['year'] = ratings['timestamp'].apply(extract_year_from_timestamp)"
   ]
  },
  {
   "cell_type": "code",
   "execution_count": 7,
   "metadata": {
    "collapsed": false
   },
   "outputs": [
    {
     "data": {
      "text/html": [
       "<div>\n",
       "<style>\n",
       "    .dataframe thead tr:only-child th {\n",
       "        text-align: right;\n",
       "    }\n",
       "\n",
       "    .dataframe thead th {\n",
       "        text-align: left;\n",
       "    }\n",
       "\n",
       "    .dataframe tbody tr th {\n",
       "        vertical-align: top;\n",
       "    }\n",
       "</style>\n",
       "<table border=\"1\" class=\"dataframe\">\n",
       "  <thead>\n",
       "    <tr style=\"text-align: right;\">\n",
       "      <th></th>\n",
       "      <th>user id</th>\n",
       "      <th>movie id</th>\n",
       "      <th>rating</th>\n",
       "      <th>timestamp</th>\n",
       "      <th>year</th>\n",
       "    </tr>\n",
       "  </thead>\n",
       "  <tbody>\n",
       "    <tr>\n",
       "      <th>0</th>\n",
       "      <td>196</td>\n",
       "      <td>242</td>\n",
       "      <td>3</td>\n",
       "      <td>881250949</td>\n",
       "      <td>1997</td>\n",
       "    </tr>\n",
       "    <tr>\n",
       "      <th>1</th>\n",
       "      <td>186</td>\n",
       "      <td>302</td>\n",
       "      <td>3</td>\n",
       "      <td>891717742</td>\n",
       "      <td>1998</td>\n",
       "    </tr>\n",
       "    <tr>\n",
       "      <th>2</th>\n",
       "      <td>22</td>\n",
       "      <td>377</td>\n",
       "      <td>1</td>\n",
       "      <td>878887116</td>\n",
       "      <td>1997</td>\n",
       "    </tr>\n",
       "  </tbody>\n",
       "</table>\n",
       "</div>"
      ],
      "text/plain": [
       "   user id  movie id  rating  timestamp  year\n",
       "0      196       242       3  881250949  1997\n",
       "1      186       302       3  891717742  1998\n",
       "2       22       377       1  878887116  1997"
      ]
     },
     "execution_count": 7,
     "metadata": {},
     "output_type": "execute_result"
    }
   ],
   "source": [
    "ratings.head(3)"
   ]
  },
  {
   "cell_type": "markdown",
   "metadata": {},
   "source": [
    "All ratings are from 1997 or 1998:"
   ]
  },
  {
   "cell_type": "code",
   "execution_count": 8,
   "metadata": {
    "collapsed": false
   },
   "outputs": [
    {
     "data": {
      "text/plain": [
       "1997    52884\n",
       "1998    47116\n",
       "Name: year, dtype: int64"
      ]
     },
     "execution_count": 8,
     "metadata": {},
     "output_type": "execute_result"
    }
   ],
   "source": [
    "ratings['year'].value_counts()"
   ]
  },
  {
   "cell_type": "markdown",
   "metadata": {},
   "source": [
    "## Basic Task"
   ]
  },
  {
   "cell_type": "markdown",
   "metadata": {},
   "source": [
    "### a. How many movies have been watched in 1992."
   ]
  },
  {
   "cell_type": "markdown",
   "metadata": {},
   "source": [
    "With the data at hand, the question that can be answered is, how many movies have been released in 1992. We can assume that these have in turn also been watched by someone in 1992. The answer is only correct with respect to this specific dataset, since, for example, movies released in India in 1992 are not included. "
   ]
  },
  {
   "cell_type": "code",
   "execution_count": 9,
   "metadata": {
    "collapsed": false
   },
   "outputs": [
    {
     "name": "stdout",
     "output_type": "stream",
     "text": [
      "In 1992, 40 movies have been released.\n"
     ]
    }
   ],
   "source": [
    "mask = movies['year'] == 1992\n",
    "print('In 1992, {:d} movies have been released.'.format(mask.sum()))"
   ]
  },
  {
   "cell_type": "markdown",
   "metadata": {},
   "source": [
    "**40 movies have been watched.**"
   ]
  },
  {
   "cell_type": "markdown",
   "metadata": {},
   "source": [
    "### b. What’s the distribution of the reviews (percentage and absolute numbers) for movies that have been published in 1995."
   ]
  },
  {
   "cell_type": "code",
   "execution_count": 10,
   "metadata": {
    "collapsed": false
   },
   "outputs": [],
   "source": [
    "mask = movies['year'] == 1995\n",
    "movie_id_1995 = movies.loc[mask, 'movie id']\n",
    "\n",
    "mask = ratings['movie id'].isin(movie_id_1995)\n",
    "ratings_movies_from_1995 = ratings.loc[mask, 'rating']"
   ]
  },
  {
   "cell_type": "code",
   "execution_count": 11,
   "metadata": {
    "collapsed": false
   },
   "outputs": [],
   "source": [
    "ratings_movies_from_1995_percentage = ratings_movies_from_1995.value_counts(sort=False, \n",
    "                                                                            normalize=True) * 100\n",
    "ratings_movies_from_1995_counts = ratings_movies_from_1995.value_counts(sort=False, \n",
    "                                                                        normalize=False)"
   ]
  },
  {
   "cell_type": "code",
   "execution_count": 12,
   "metadata": {
    "collapsed": false
   },
   "outputs": [
    {
     "data": {
      "image/png": "[encoded data removed]",
      "text/plain": [
       "<matplotlib.figure.Figure at 0x7f5fe5e69860>"
      ]
     },
     "metadata": {},
     "output_type": "display_data"
    }
   ],
   "source": [
    "fig = plt.figure(figsize=(8, 6))\n",
    "ax1 = ratings_movies_from_1995_percentage.plot(kind='bar', rot=0)\n",
    "ax1.set_ylabel('Percentage')\n",
    "ax1.set_ylim((0, 4500 * 100 / ratings_movies_from_1995_counts.sum()))\n",
    "ax1.set_xlabel('Rating')\n",
    "ax2 = ax1.twinx()\n",
    "\n",
    "ax2.set_ylim(ax1.get_ylim())\n",
    "ax2.set_yticks(np.linspace(0, 4500, 11) * 100 / ratings_movies_from_1995_counts.sum())\n",
    "ax2.set_yticklabels([int(n) for n in np.linspace(0, 4500, 11)])\n",
    "ax2.set_ylabel('Total numbers')\n",
    "\n",
    "plt.title('Rating of movies from 1995')\n",
    "plt.show()"
   ]
  },
  {
   "cell_type": "markdown",
   "metadata": {},
   "source": [
    "### c. What are the top 10 rated movies in 1996.\n",
    "\n",
    "It is assumed that the question asks for top 10 rated movies from 1996, since all movie ratings are from 1997 and 1998 (see above). \n",
    "\n",
    "Movies with same rating are ranked by numbers of reviews."
   ]
  },
  {
   "cell_type": "code",
   "execution_count": 13,
   "metadata": {
    "collapsed": false
   },
   "outputs": [
    {
     "data": {
      "text/html": [
       "<div>\n",
       "<style>\n",
       "    .dataframe thead tr:only-child th {\n",
       "        text-align: right;\n",
       "    }\n",
       "\n",
       "    .dataframe thead th {\n",
       "        text-align: left;\n",
       "    }\n",
       "\n",
       "    .dataframe tbody tr th {\n",
       "        vertical-align: top;\n",
       "    }\n",
       "</style>\n",
       "<table border=\"1\" class=\"dataframe\">\n",
       "  <thead>\n",
       "    <tr style=\"text-align: right;\">\n",
       "      <th></th>\n",
       "      <th>movie title</th>\n",
       "      <th>rating</th>\n",
       "      <th>number of reviews</th>\n",
       "    </tr>\n",
       "    <tr>\n",
       "      <th>movie id</th>\n",
       "      <th></th>\n",
       "      <th></th>\n",
       "      <th></th>\n",
       "    </tr>\n",
       "  </thead>\n",
       "  <tbody>\n",
       "    <tr>\n",
       "      <th>100</th>\n",
       "      <td>Fargo (1996)</td>\n",
       "      <td>5.0</td>\n",
       "      <td>227</td>\n",
       "    </tr>\n",
       "    <tr>\n",
       "      <th>286</th>\n",
       "      <td>English Patient, The (1996)</td>\n",
       "      <td>5.0</td>\n",
       "      <td>131</td>\n",
       "    </tr>\n",
       "    <tr>\n",
       "      <th>288</th>\n",
       "      <td>Scream (1996)</td>\n",
       "      <td>5.0</td>\n",
       "      <td>85</td>\n",
       "    </tr>\n",
       "    <tr>\n",
       "      <th>475</th>\n",
       "      <td>Trainspotting (1996)</td>\n",
       "      <td>5.0</td>\n",
       "      <td>80</td>\n",
       "    </tr>\n",
       "    <tr>\n",
       "      <th>117</th>\n",
       "      <td>Rock, The (1996)</td>\n",
       "      <td>5.0</td>\n",
       "      <td>77</td>\n",
       "    </tr>\n",
       "    <tr>\n",
       "      <th>121</th>\n",
       "      <td>Independence Day (ID4) (1996)</td>\n",
       "      <td>5.0</td>\n",
       "      <td>76</td>\n",
       "    </tr>\n",
       "    <tr>\n",
       "      <th>237</th>\n",
       "      <td>Jerry Maguire (1996)</td>\n",
       "      <td>5.0</td>\n",
       "      <td>75</td>\n",
       "    </tr>\n",
       "    <tr>\n",
       "      <th>285</th>\n",
       "      <td>Secrets &amp; Lies (1996)</td>\n",
       "      <td>5.0</td>\n",
       "      <td>75</td>\n",
       "    </tr>\n",
       "    <tr>\n",
       "      <th>124</th>\n",
       "      <td>Lone Star (1996)</td>\n",
       "      <td>5.0</td>\n",
       "      <td>66</td>\n",
       "    </tr>\n",
       "    <tr>\n",
       "      <th>222</th>\n",
       "      <td>Star Trek: First Contact (1996)</td>\n",
       "      <td>5.0</td>\n",
       "      <td>65</td>\n",
       "    </tr>\n",
       "  </tbody>\n",
       "</table>\n",
       "</div>"
      ],
      "text/plain": [
       "                              movie title  rating  number of reviews\n",
       "movie id                                                            \n",
       "100                          Fargo (1996)     5.0                227\n",
       "286           English Patient, The (1996)     5.0                131\n",
       "288                         Scream (1996)     5.0                 85\n",
       "475                  Trainspotting (1996)     5.0                 80\n",
       "117                      Rock, The (1996)     5.0                 77\n",
       "121         Independence Day (ID4) (1996)     5.0                 76\n",
       "237                  Jerry Maguire (1996)     5.0                 75\n",
       "285                 Secrets & Lies (1996)     5.0                 75\n",
       "124                      Lone Star (1996)     5.0                 66\n",
       "222       Star Trek: First Contact (1996)     5.0                 65"
      ]
     },
     "execution_count": 13,
     "metadata": {},
     "output_type": "execute_result"
    }
   ],
   "source": [
    "# Movie ids of movies from 1996\n",
    "mask = movies['year'] == 1996\n",
    "movie_ids_1996 = movies[mask].index\n",
    "\n",
    "# Identify top 10 rated movie ids of movies from 1996\n",
    "mask1 = ratings['movie id'].isin(movie_ids_1996)\n",
    "mask2 = ratings['rating'] == 5  # there are more than 10 movies rated with 5 from the year 1996\n",
    "mask = mask1 & mask2\n",
    "top10_ratings = ratings[mask].groupby('movie id').size().sort_values(ascending=False)[:10]\n",
    "top10_movie_ids = top10_ratings.index\n",
    "\n",
    "# Find movie titles, put together with ratings and numbers of reviews\n",
    "top10_movies = movies.loc[top10_movie_ids]\n",
    "top10_movies['rating'] = [5.0] * 10\n",
    "top10_movies['number of reviews'] = top10_ratings\n",
    "\n",
    "# Final output\n",
    "top10_movies[['movie title', 'rating', 'number of reviews']]"
   ]
  },
  {
   "cell_type": "markdown",
   "metadata": {},
   "source": [
    "# Advanced Task"
   ]
  },
  {
   "cell_type": "markdown",
   "metadata": {},
   "source": [
    "### a. What are the top 10 similar movies to movie number 16: “French Twist (Gazon maudit) (1995)”."
   ]
  },
  {
   "cell_type": "markdown",
   "metadata": {},
   "source": [
    "Crucial for answering this question is how to define similarity. One could use the genre assignment, but that would identify all movies with the single tag 'Action' to be equally similar. However, an established approach for this task is to define similarity with respect to user ratings (item-based collaborative filtering, see *Sawar et al. (2001)*). Two movies that have been similarly rated across users are likely to be similar. I utilize *adjusted cosine similarity* as discussed in *Sawar et al. (2001)*."
   ]
  },
  {
   "cell_type": "code",
   "execution_count": 14,
   "metadata": {
    "collapsed": false
   },
   "outputs": [
    {
     "name": "stdout",
     "output_type": "stream",
     "text": []
    }
   ],
   "source": [
    "from sklearn.metrics.pairwise import cosine_similarity\n",
    "\n",
    "def cos_sim_custom(x, y):\n",
    "    return cosine_similarity(x.values.reshape(1, -1), y.values.reshape(1, -1))\n",
    "\n",
    "# Bring rating data into required format\n",
    "ratings_wide = ratings[['user id', 'movie id', 'rating']].pivot('user id', 'movie id', 'rating')\n",
    "ratings_wide = ratings_wide.apply(lambda x: x - np.nanmean(x), axis=1)  # subtract user mean\n",
    "ratings_wide = ratings_wide.fillna(0)  # required for cosine_similarity\n",
    "\n",
    "# Determine adjusted cosine similarity of movies with respect to user ratings\n",
    "movie_similarity = pd.DataFrame(np.ones((ratings_wide.shape[1], ratings_wide.shape[1])),\n",
    "                              index = ratings_wide.columns,\n",
    "                              columns = ratings_wide.columns)\n",
    "count = 0\n",
    "total_count = ratings_wide.shape[1] * (ratings_wide.shape[1]-1) / 2\n",
    "for i in range(ratings_wide.shape[1]):\n",
    "    for j in range(i):\n",
    "        if count % 1000 == 0:\n",
    "            print('{:.2f}'.format(count/total_count), end='\\r')\n",
    "        count += 1\n",
    "        mi = movie_similarity.index[i]\n",
    "        mj = movie_similarity.index[j]\n",
    "        movie_similarity.loc[mi, mj] = movie_similarity.loc[mj, mi] = cos_sim_custom(ratings_wide[mi], ratings_wide[mj])\n",
    "\n",
    "# Determine movie id of 'French Twist (1995)'\n",
    "mask = movies['movie title'].str.contains('French Twist')\n",
    "french_twist_id = movies[mask].index.get_values()[0]\n",
    "\n",
    "# Find movies most similar to 'French Twist (1995)'\n",
    "most_similar = movie_similarity.loc[french_twist_id].nlargest(11).index[1:]  # index zero is french twist\n",
    "most_similar_movies = movies.loc[most_similar]"
   ]
  },
  {
   "cell_type": "markdown",
   "metadata": {},
   "source": [
    "**Most similar movies, ordered by decreasing similarity:**"
   ]
  },
  {
   "cell_type": "code",
   "execution_count": 15,
   "metadata": {
    "collapsed": false
   },
   "outputs": [
    {
     "data": {
      "text/plain": [
       "movie id\n",
       "1232             Madonna: Truth or Dare (1991)\n",
       "1447                            Century (1993)\n",
       "1453               Angel on My Shoulder (1946)\n",
       "1457               Love Is All There Is (1996)\n",
       "1460                          Sleepover (1995)\n",
       "1461                  Here Comes Cookie (1935)\n",
       "107                       Moll Flanders (1996)\n",
       "804                     Jimmy Hollywood (1994)\n",
       "1377                      Hotel de Love (1996)\n",
       "119     Maya Lin: A Strong Clear Vision (1994)\n",
       "Name: movie title, dtype: object"
      ]
     },
     "execution_count": 15,
     "metadata": {},
     "output_type": "execute_result"
    }
   ],
   "source": [
    "most_similar_movies['movie title']"
   ]
  },
  {
   "cell_type": "markdown",
   "metadata": {},
   "source": [
    "### b. I’ve watched the movie “Bad Boys (1995)”, “Braveheart (1995)” and “Taxi Driver (1976)”. Please give a recommendation for the next 3 movies that I should watch. There’s no wrong or right answer but please explain your process and the way you reached your recommendation.\n"
   ]
  },
  {
   "cell_type": "markdown",
   "metadata": {},
   "source": [
    "Assumption: All three movies watched were liked and equally well liked.\n",
    "\n",
    "Under this assumption, I can implement item-item collaborative filtering (*Sawar et al. (2001)*. To this end, I utilize the adjusted cosine similarity of movies (see above). Then I determine for each movie (except the already watched ones) the similarity to the already watched ones and take an average (if ratings were available for the watched ones, I would weight the similarities by the ratings; based on the assumption stated above, I can leave this out). This provides me a similarity score for all other movies. I choose the three with highest similarity. If there are ties, I choose by rank and number of reviews."
   ]
  },
  {
   "cell_type": "code",
   "execution_count": 16,
   "metadata": {
    "collapsed": false
   },
   "outputs": [],
   "source": [
    "# Identify movie ids of these movies\n",
    "watched_movies = [r'Bad Boys \\(1995\\)', r'Braveheart \\(1995\\)', r'Taxi Driver \\(1976\\)']\n",
    "watched_movie_ids = []\n",
    "for m in watched_movies:\n",
    "    mask = movies['movie title'].str.contains(m)\n",
    "    watched_movie_ids.append(movies.index[mask].get_values()[0])\n",
    "    \n",
    "other_movie_ids = np.setdiff1d(movies.index, (watched_movie_ids))\n",
    "\n",
    "# Find movie recommendations\n",
    "recommended_movie_ids = movie_similarity.loc[other_movie_ids, watched_movie_ids].mean(axis=1).nlargest(3).index\n",
    "recommended_movies = movies.loc[recommended_movie_ids]"
   ]
  },
  {
   "cell_type": "markdown",
   "metadata": {},
   "source": [
    "**Recommended movies, ordered by decreasing recommendation score:**"
   ]
  },
  {
   "cell_type": "code",
   "execution_count": 17,
   "metadata": {
    "collapsed": false
   },
   "outputs": [
    {
     "data": {
      "text/plain": [
       "movie id\n",
       "651                        Glory (1989)\n",
       "64     Shawshank Redemption, The (1994)\n",
       "127               Godfather, The (1972)\n",
       "Name: movie title, dtype: object"
      ]
     },
     "execution_count": 17,
     "metadata": {},
     "output_type": "execute_result"
    }
   ],
   "source": [
    "recommended_movies['movie title']"
   ]
  }
 ],
 "metadata": {
  "kernelspec": {
   "display_name": "Python 3",
   "language": "python",
   "name": "python3"
  },
  "language_info": {
   "codemirror_mode": {
    "name": "ipython",
    "version": 3
   },
   "file_extension": ".py",
   "mimetype": "text/x-python",
   "name": "python",
   "nbconvert_exporter": "python",
   "pygments_lexer": "ipython3",
   "version": "3.4.3"
  }
 },
 "nbformat": 4,
 "nbformat_minor": 2
}
